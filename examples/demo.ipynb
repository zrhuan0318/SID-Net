{
 "cells": [
  {
   "cell_type": "markdown",
   "id": "7dd8e138",
   "metadata": {},
   "source": [
    "# SID-Net Example: Decompose information and construct a microbial network"
   ]
  },
  {
   "cell_type": "code",
   "execution_count": null,
   "id": "f2923d65",
   "metadata": {},
   "outputs": [],
   "source": [
    "import numpy as np\n",
    "import pandas as pd\n",
    "from sidnet import sid_decompose, build_sid_network"
   ]
  },
  {
   "cell_type": "markdown",
   "id": "bb98b91b",
   "metadata": {},
   "source": [
    "### Generate a simple synthetic microbial dataset (3 variables, 1000 time points)"
   ]
  },
  {
   "cell_type": "code",
   "execution_count": null,
   "id": "9bb6933a",
   "metadata": {},
   "outputs": [],
   "source": [
    "np.random.seed(0)\n",
    "X = np.random.rand(3, 1000)"
   ]
  },
  {
   "cell_type": "markdown",
   "id": "1e10a2e1",
   "metadata": {},
   "source": [
    "### Use the first variable as the target, and the rest as predictors, then perform SID decomposition"
   ]
  },
  {
   "cell_type": "code",
   "execution_count": null,
   "id": "fdf0bbd8",
   "metadata": {},
   "outputs": [],
   "source": [
    "Y = np.vstack([X[0], X[1], X[2]])  # target + inputs\n",
    "I_R, I_S, MI = sid_decompose(Y, nbins=5, max_combs=2)"
   ]
  },
  {
   "cell_type": "markdown",
   "id": "8bcecbf1",
   "metadata": {},
   "source": [
    "### Format output as a DataFrame"
   ]
  },
  {
   "cell_type": "code",
   "execution_count": null,
   "id": "80adc6e3",
   "metadata": {},
   "outputs": [],
   "source": [
    "data = []\n",
    "for k in I_S:\n",
    "    if len(k) == 2:\n",
    "        data.append({\n",
    "            \"source_otu\": f\"OTU{k[0]}\",\n",
    "            \"target_otu\": f\"OTU{k[1]}\",\n",
    "            \"synergy\": I_S[k],\n",
    "            \"redundant\": (I_R.get((k[0],), 0) + I_R.get((k[1],), 0)) / 2\n",
    "        })\n",
    "df = pd.DataFrame(data)"
   ]
  },
  {
   "cell_type": "markdown",
   "id": "0fefbc36",
   "metadata": {},
   "source": [
    "### Build the microbial network and save as CSV files"
   ]
  },
  {
   "cell_type": "code",
   "execution_count": null,
   "id": "0dd29613",
   "metadata": {},
   "outputs": [],
   "source": [
    "build_sid_network(df, output_dir=\"./network_output\")"
   ]
  },
  {
   "cell_type": "markdown",
   "id": "b0302a4d",
   "metadata": {},
   "source": [
    "### Display the edges (lines.csv)"
   ]
  },
  {
   "cell_type": "code",
   "execution_count": null,
   "id": "f8e7ad42",
   "metadata": {},
   "outputs": [],
   "source": [
    "print(\"\\nEdges (lines.csv):\")\n",
    "print(pd.read_csv(\"./network_output/lines.csv\"))"
   ]
  },
  {
   "cell_type": "markdown",
   "id": "44ea51f9",
   "metadata": {},
   "source": [
    "### Display the nodes (points.csv)"
   ]
  },
  {
   "cell_type": "code",
   "execution_count": null,
   "id": "76018e87",
   "metadata": {},
   "outputs": [],
   "source": [
    "print(\"\\nNodes (points.csv):\")\n",
    "print(pd.read_csv(\"./network_output/points.csv\"))"
   ]
  }
 ],
 "metadata": {
  "kernelspec": {
   "display_name": "Python 3",
   "language": "python",
   "name": "python3"
  }
 },
 "nbformat": 4,
 "nbformat_minor": 5
}
